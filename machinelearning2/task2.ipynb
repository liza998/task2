{
 "cells": [
  {
   "cell_type": "code",
   "execution_count": 1,
   "id": "1731718b",
   "metadata": {},
   "outputs": [
    {
     "name": "stdout",
     "output_type": "stream",
     "text": [
      "enter the number in float 3.1416\n",
      "3.14\n"
     ]
    }
   ],
   "source": [
    "##display float number with 2 decimal place\n",
    "\n",
    "a = float(input(\"enter the number in float\"))\n",
    "a_limit = round(a,2)\n",
    "print(a_limit)"
   ]
  },
  {
   "cell_type": "code",
   "execution_count": 3,
   "id": "0035bdde",
   "metadata": {},
   "outputs": [
    {
     "name": "stdout",
     "output_type": "stream",
     "text": [
      "enter the range6\n",
      "enter the numbers10.2\n",
      "enter the numbers23.4\n",
      "enter the numbers56.7\n",
      "enter the numbers78.9\n",
      "enter the numbers12.6\n",
      "enter the numbers55.8\n",
      "[10.2, 23.4, 56.7, 78.9, 12.6, 55.8]\n"
     ]
    }
   ],
   "source": [
    "##Accept a list of float number from the user and display it\n",
    "\n",
    "l = []\n",
    "n = int(input(\"enter the range\"))\n",
    "for i in range(0,n):\n",
    "    f= float(input(\"enter the numbers\"))\n",
    "    l.append(f)\n",
    "    \n",
    "print(l)\n"
   ]
  },
  {
   "cell_type": "code",
   "execution_count": 11,
   "id": "9c57ad69",
   "metadata": {},
   "outputs": [
    {
     "name": "stdout",
     "output_type": "stream",
     "text": [
      "enter the number3456789321\n",
      "10\n"
     ]
    }
   ],
   "source": [
    "##count total number of digit in number\n",
    "\n",
    "number = (input(\"enter the number\"))\n",
    "digit = 0\n",
    "\n",
    "for i in number:\n",
    "    if i.isdigit():\n",
    "        digit = digit+1\n",
    "        \n",
    "        \n",
    "print(digit)"
   ]
  },
  {
   "cell_type": "code",
   "execution_count": 13,
   "id": "aeb3e0ea",
   "metadata": {},
   "outputs": [
    {
     "name": "stdout",
     "output_type": "stream",
     "text": [
      "enter the number5\n",
      "120\n"
     ]
    }
   ],
   "source": [
    "## factorial of the number\n",
    "\n",
    "a = int(input(\"enter the number\"))\n",
    "\n",
    "def fact(a):\n",
    "    if a==0:\n",
    "        return 1\n",
    "    else:\n",
    "        return a*fact(a-1)\n",
    "\n",
    "\n",
    "\n",
    "l = fact(a)\n",
    "print(l)"
   ]
  },
  {
   "cell_type": "code",
   "execution_count": 19,
   "id": "bb26df89",
   "metadata": {},
   "outputs": [
    {
     "name": "stdout",
     "output_type": "stream",
     "text": [
      "enter the range6\n",
      "-6\n",
      "-5\n",
      "-4\n",
      "-3\n",
      "-2\n",
      "-1\n"
     ]
    }
   ],
   "source": [
    "## display the number from -n to -1 using for loop\n",
    "\n",
    "n = int(input(\"enter the range\"))\n",
    "\n",
    "for i in range(-n,0):\n",
    "    print(i)"
   ]
  },
  {
   "cell_type": "code",
   "execution_count": 25,
   "id": "54c7c09e",
   "metadata": {},
   "outputs": [
    {
     "name": "stdout",
     "output_type": "stream",
     "text": [
      "enter the row5\n",
      "1\n",
      "12\n",
      "123\n",
      "1234\n",
      "12345\n"
     ]
    }
   ],
   "source": [
    "##pattern number \n",
    "\n",
    "n = int(input(\"enter the row\"))\n",
    "\n",
    "for i in range(1,n+1):\n",
    "    for j in range(1,i+1):\n",
    "        print(j,end=\"\")\n",
    "    print()"
   ]
  },
  {
   "cell_type": "code",
   "execution_count": 29,
   "id": "4c31252e",
   "metadata": {},
   "outputs": [
    {
     "name": "stdout",
     "output_type": "stream",
     "text": [
      "enter the row5\n",
      "1\n",
      "22\n",
      "333\n",
      "4444\n",
      "55555\n"
     ]
    }
   ],
   "source": [
    "n = int(input(\"enter the row\"))\n",
    "\n",
    "for i in range(1,n+1):\n",
    "    for j in range(1,i+1):\n",
    "        print(i, end=\"\")\n",
    "    print()"
   ]
  },
  {
   "cell_type": "code",
   "execution_count": 31,
   "id": "96fb2b8d",
   "metadata": {},
   "outputs": [
    {
     "name": "stdout",
     "output_type": "stream",
     "text": [
      "enter the natural number100\n",
      "1 2 3 4 5 6 7 8 9 10 11 12 13 14 15 16 17 18 19 20 21 22 23 24 25 26 27 28 29 30 31 32 33 34 35 36 37 38 39 40 41 42 43 44 45 46 47 48 49 50 51 52 53 54 55 56 57 58 59 60 61 62 63 64 65 66 67 68 69 70 71 72 73 74 75 76 77 78 79 80 81 82 83 84 85 86 87 88 89 90 91 92 93 94 95 96 97 98 99 100 end of range\n"
     ]
    }
   ],
   "source": [
    "##n natural number using while loop\n",
    "\n",
    "n = int(input(\"enter the natural number\"))\n",
    "i = 1\n",
    "while i<=n:\n",
    "    print(i, end=\" \")\n",
    "    i = i+1\n",
    "    \n",
    "print(\"end of range\")"
   ]
  },
  {
   "cell_type": "code",
   "execution_count": null,
   "id": "5fc8e621",
   "metadata": {},
   "outputs": [],
   "source": []
  }
 ],
 "metadata": {
  "kernelspec": {
   "display_name": "Python 3 (ipykernel)",
   "language": "python",
   "name": "python3"
  },
  "language_info": {
   "codemirror_mode": {
    "name": "ipython",
    "version": 3
   },
   "file_extension": ".py",
   "mimetype": "text/x-python",
   "name": "python",
   "nbconvert_exporter": "python",
   "pygments_lexer": "ipython3",
   "version": "3.10.8"
  }
 },
 "nbformat": 4,
 "nbformat_minor": 5
}
